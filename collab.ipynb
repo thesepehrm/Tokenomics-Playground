{
 "cells": [
  {
   "cell_type": "markdown",
   "source": [
    "# Tokenomics Simulation\n",
    "**Note**: This notebook has some extra steps to prepare the notebook for the Google Collab, if you're running this repo in Jupyter's notebook, please use `notebook.ipynb` instead."
   ],
   "metadata": {}
  },
  {
   "cell_type": "code",
   "execution_count": null,
   "source": [
    "# Installing and downloading requirements:\n",
    "\n",
    "!pip install requests\n",
    "import requests\n",
    "# Save charts.py and lib.py to collab's working directory\n",
    "# If you are using GitHub, make sure you get the \"Raw\" version of the code\n",
    "files = ['charts.py', 'lib.py']\n",
    "for file in files:\n",
    "    url = 'https://raw.githubusercontent.com/thesepehrm/tokenomics-playground/master/' + file\n",
    "    r = requests.get(url)\n",
    "    with open(file, 'w') as f:\n",
    "        f.write(r.text)\n",
    "# now we can import the files\n",
    "from charts import *"
   ],
   "outputs": [],
   "metadata": {}
  },
  {
   "cell_type": "markdown",
   "source": [
    "### Instructions\n",
    "\n",
    "Select the chart you want to see then use the sliders to change the variables"
   ],
   "metadata": {}
  },
  {
   "cell_type": "code",
   "execution_count": null,
   "source": [
    "from ipywidgets import interact\n",
    "\n",
    "@interact\n",
    "def select_chart(selected_chart=[('Transactions', 'tp'), ('Token Total Supply', 'tts'), ('Advanced Inflation', 'ai')]):\n",
    "    if selected_chart == 'tp':\n",
    "        interact(tx_volume_chart)\n",
    "    elif selected_chart == 'tts':\n",
    "        interact(token_supply_chart)\n",
    "    elif selected_chart == 'ai':\n",
    "        interact(percentage_inflation_chart)\n"
   ],
   "outputs": [
    {
     "data": {
      "application/vnd.jupyter.widget-view+json": {
       "version_major": 2,
       "version_minor": 0,
       "model_id": "577786fa41154d9e9946bc894755a6b2"
      },
      "text/plain": [
       "interactive(children=(Dropdown(description='selected_chart', options=(('Transactions', 'tp'), ('Token Total Su…"
      ]
     },
     "metadata": {},
     "output_type": "display_data"
    }
   ],
   "metadata": {}
  }
 ],
 "metadata": {
  "orig_nbformat": 4,
  "language_info": {
   "name": "python"
  }
 },
 "nbformat": 4,
 "nbformat_minor": 2
}