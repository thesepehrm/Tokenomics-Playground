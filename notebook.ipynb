{
 "cells": [
  {
   "cell_type": "markdown",
   "source": [
    "# Tokenomics Simulation"
   ],
   "metadata": {}
  },
  {
   "cell_type": "markdown",
   "source": [
    "Use these variables to control inflation:"
   ],
   "metadata": {}
  },
  {
   "cell_type": "code",
   "execution_count": 1,
   "source": [
    "from ipywidgets import interact, interact_manual\n",
    "from charts import *\n",
    "\n",
    "@interact\n",
    "def select_chart(selected_chart=[('Transactions', 'tp'), ('Token Total Supply', 'tts'), ('Advanced Inflation', 'ai')]):\n",
    "    if selected_chart == 'tp':\n",
    "        interact(tx_volume_chart)\n",
    "    elif selected_chart == 'tts':\n",
    "        interact(token_supply_chart)\n",
    "    elif selected_chart == 'ai':\n",
    "        interact(percentage_inflation_chart)\n"
   ],
   "outputs": [
    {
     "output_type": "display_data",
     "data": {
      "application/vnd.jupyter.widget-view+json": {
       "version_major": 2,
       "version_minor": 0,
       "model_id": "577786fa41154d9e9946bc894755a6b2"
      },
      "text/plain": [
       "interactive(children=(Dropdown(description='selected_chart', options=(('Transactions', 'tp'), ('Token Total Su…"
      ]
     },
     "metadata": {}
    }
   ],
   "metadata": {}
  }
 ],
 "metadata": {
  "kernelspec": {
   "name": "python3",
   "display_name": "Python 3.9.6 64-bit"
  },
  "language_info": {
   "codemirror_mode": {
    "name": "ipython",
    "version": 3
   },
   "file_extension": ".py",
   "mimetype": "text/x-python",
   "name": "python",
   "nbconvert_exporter": "python",
   "pygments_lexer": "ipython3",
   "version": "3.9.6"
  },
  "interpreter": {
   "hash": "b0fa6594d8f4cbf19f97940f81e996739fb7646882a419484c72d19e05852a7e"
  }
 },
 "nbformat": 4,
 "nbformat_minor": 5
}